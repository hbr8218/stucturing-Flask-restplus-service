{
 "cells": [
  {
   "cell_type": "markdown",
   "metadata": {},
   "source": [
    "# Introduction to sqlAlchemy"
   ]
  },
  {
   "cell_type": "markdown",
   "metadata": {},
   "source": [
    "<ol>\n",
    "    <li>SQLAlchemy is a popular SQL toolkit and Object Relational Mapper. It is written in Python and gives full power and flexibility of SQL to an application developer.</li>\n",
    "    <li>Open source cross platform software</li>\n",
    "    <li>SQLAlchemy is famous for its object-relational mapper (ORM), using which, classes can be mapped to the database, thereby allowing the object model and database schema to develop in a cleanly decoupled way from the beginning.</li>\n",
    "    <li>Michael Bayer is the original author of SQLAlchemy.</li>\n",
    "</ol>\n"
   ]
  },
  {
   "cell_type": "markdown",
   "metadata": {},
   "source": [
    "### What is ORM?\n",
    "ORM (Object Relational Mapping) is a programming technique for converting data between incompatible type systems in object-oriented programming languages. Usually, the type system used in an Object Oriented (OO) language like Python contains non-scalar types. These cannot be expressed as primitive types such as integers and strings. Hence, the OO programmer has to convert objects in scalar data to interact with backend database. However, data types in most of the database products such as Oracle, MySQL, etc., are primary.\n",
    "\n",
    "In an ORM system, each class maps to a table in the underlying database. Instead of writing tedious database interfacing code yourself, an ORM takes care of these issues for you while you can focus on programming the logics of the system."
   ]
  },
  {
   "cell_type": "code",
   "execution_count": 7,
   "metadata": {},
   "outputs": [],
   "source": [
    "import sqlalchemy"
   ]
  },
  {
   "cell_type": "code",
   "execution_count": 8,
   "metadata": {},
   "outputs": [
    {
     "name": "stdout",
     "output_type": "stream",
     "text": [
      "1.3.1\n"
     ]
    }
   ],
   "source": [
    "print(sqlalchemy.__version__)"
   ]
  },
  {
   "cell_type": "markdown",
   "metadata": {},
   "source": [
    "For example, if you are using PyMySQL driver with MySQL, use the following command −\n",
    "\n",
    "mysql+pymysql://<username\\>:<password\\>@<host\\>/<dbname\\>"
   ]
  },
  {
   "cell_type": "markdown",
   "metadata": {},
   "source": [
    "The create_engine() function takes the database as one argument."
   ]
  },
  {
   "cell_type": "code",
   "execution_count": 9,
   "metadata": {},
   "outputs": [],
   "source": [
    "engine = db.create_engine('sqlite:///test.db', echo=True)"
   ]
  },
  {
   "cell_type": "markdown",
   "metadata": {},
   "source": [
    "Metadata contains definitions of tables and associated objects such as index, view, triggers, etc.\n",
    "\n",
    "Hence an object of MetaData class from SQLAlchemy Metadata is a collection of Table objects and their associated schema constructs. It holds a collection of Table objects as well as an optional binding to an Engine or Connection."
   ]
  },
  {
   "cell_type": "code",
   "execution_count": 11,
   "metadata": {},
   "outputs": [],
   "source": [
    "from sqlalchemy import MetaData"
   ]
  },
  {
   "cell_type": "code",
   "execution_count": 18,
   "metadata": {},
   "outputs": [],
   "source": [
    "metadata = MetaData()"
   ]
  },
  {
   "cell_type": "markdown",
   "metadata": {},
   "source": [
    "Metadata contains definitions of tables and associated objects such as index, view, triggers, etc.\n",
    "\n",
    "Hence an object of MetaData class from SQLAlchemy Metadata is a collection of Table objects and their associated schema constructs. It holds a collection of Table objects as well as an optional binding to an Engine or Connection."
   ]
  },
  {
   "cell_type": "code",
   "execution_count": 19,
   "metadata": {},
   "outputs": [],
   "source": [
    "from sqlalchemy import MetaData, Table, Column, Integer, String"
   ]
  },
  {
   "cell_type": "code",
   "execution_count": 23,
   "metadata": {},
   "outputs": [
    {
     "name": "stdout",
     "output_type": "stream",
     "text": [
      "2020-03-04 10:06:05,563 INFO sqlalchemy.engine.base.Engine SELECT CAST('test plain returns' AS VARCHAR(60)) AS anon_1\n",
      "2020-03-04 10:06:05,564 INFO sqlalchemy.engine.base.Engine ()\n",
      "2020-03-04 10:06:05,568 INFO sqlalchemy.engine.base.Engine SELECT CAST('test unicode returns' AS VARCHAR(60)) AS anon_1\n",
      "2020-03-04 10:06:05,569 INFO sqlalchemy.engine.base.Engine ()\n",
      "2020-03-04 10:06:05,573 INFO sqlalchemy.engine.base.Engine PRAGMA table_info(\"students\")\n",
      "2020-03-04 10:06:05,578 INFO sqlalchemy.engine.base.Engine ()\n",
      "2020-03-04 10:06:05,581 INFO sqlalchemy.engine.base.Engine PRAGMA table_info(\"students2\")\n",
      "2020-03-04 10:06:05,583 INFO sqlalchemy.engine.base.Engine ()\n",
      "2020-03-04 10:06:05,586 INFO sqlalchemy.engine.base.Engine \n",
      "CREATE TABLE students (\n",
      "\tid INTEGER NOT NULL, \n",
      "\tname VARCHAR, \n",
      "\tlastname VARCHAR, \n",
      "\tPRIMARY KEY (id)\n",
      ")\n",
      "\n",
      "\n",
      "2020-03-04 10:06:05,588 INFO sqlalchemy.engine.base.Engine ()\n",
      "2020-03-04 10:06:05,750 INFO sqlalchemy.engine.base.Engine COMMIT\n",
      "2020-03-04 10:06:05,753 INFO sqlalchemy.engine.base.Engine \n",
      "CREATE TABLE students2 (\n",
      "\tid INTEGER NOT NULL, \n",
      "\tname VARCHAR, \n",
      "\tlastname VARCHAR, \n",
      "\tPRIMARY KEY (id)\n",
      ")\n",
      "\n",
      "\n",
      "2020-03-04 10:06:05,757 INFO sqlalchemy.engine.base.Engine ()\n",
      "2020-03-04 10:06:05,862 INFO sqlalchemy.engine.base.Engine COMMIT\n"
     ]
    }
   ],
   "source": [
    "students = Table(\n",
    "   'students2', metadata, \n",
    "   Column('id', Integer, primary_key = True), \n",
    "   Column('name', String), \n",
    "   Column('lastname', String),\n",
    ")\n",
    "metadata.create_all(engine)\n",
    "# create_all function uses the engine object to create all defined tables and stores information in metadata."
   ]
  },
  {
   "cell_type": "code",
   "execution_count": 32,
   "metadata": {},
   "outputs": [],
   "source": [
    "# Insert into Table \n",
    "st1 = students.insert()\n",
    "st1 = students.insert().values(id=1,name=\"Mohan\",lastname=\"Singh\")"
   ]
  },
  {
   "cell_type": "code",
   "execution_count": 34,
   "metadata": {},
   "outputs": [],
   "source": [
    "conn=engine.connect()"
   ]
  },
  {
   "cell_type": "code",
   "execution_count": 36,
   "metadata": {},
   "outputs": [
    {
     "name": "stdout",
     "output_type": "stream",
     "text": [
      "2020-03-04 10:19:44,438 INFO sqlalchemy.engine.base.Engine INSERT INTO students2 (id, name, lastname) VALUES (?, ?, ?)\n",
      "2020-03-04 10:19:44,444 INFO sqlalchemy.engine.base.Engine (1, 'Mohan', 'Singh')\n",
      "2020-03-04 10:19:44,447 INFO sqlalchemy.engine.base.Engine COMMIT\n"
     ]
    }
   ],
   "source": [
    "result=conn.execute(st1)"
   ]
  },
  {
   "cell_type": "code",
   "execution_count": 37,
   "metadata": {},
   "outputs": [
    {
     "name": "stdout",
     "output_type": "stream",
     "text": [
      "2020-03-04 10:24:05,911 INFO sqlalchemy.engine.base.Engine INSERT INTO students2 (name, lastname) VALUES (?, ?)\n",
      "2020-03-04 10:24:05,914 INFO sqlalchemy.engine.base.Engine (('Rajiv', 'Khanna'), ('Komal', 'Bhandari'), ('Abdul', 'Sattar'), ('Priya', 'Rajhans'))\n",
      "2020-03-04 10:24:05,916 INFO sqlalchemy.engine.base.Engine COMMIT\n"
     ]
    },
    {
     "data": {
      "text/plain": [
       "<sqlalchemy.engine.result.ResultProxy at 0x7fe6a2dcfe10>"
      ]
     },
     "execution_count": 37,
     "metadata": {},
     "output_type": "execute_result"
    }
   ],
   "source": [
    "# Insert many data\n",
    "conn.execute(students.insert(), [\n",
    "   {'name':'Rajiv', 'lastname' : 'Khanna'},\n",
    "   {'name':'Komal','lastname' : 'Bhandari'},\n",
    "   {'name':'Abdul','lastname' : 'Sattar'},\n",
    "   {'name':'Priya','lastname' : 'Rajhans'},\n",
    "])"
   ]
  },
  {
   "cell_type": "code",
   "execution_count": 38,
   "metadata": {},
   "outputs": [
    {
     "name": "stdout",
     "output_type": "stream",
     "text": [
      "2020-03-04 10:37:38,794 INFO sqlalchemy.engine.base.Engine SELECT students2.id, students2.name, students2.lastname \n",
      "FROM students2\n",
      "2020-03-04 10:37:38,797 INFO sqlalchemy.engine.base.Engine ()\n",
      "(1, 'Mohan', 'Singh')\n",
      "(2, 'Rajiv', 'Khanna')\n",
      "(3, 'Komal', 'Bhandari')\n",
      "(4, 'Abdul', 'Sattar')\n",
      "(5, 'Priya', 'Rajhans')\n"
     ]
    }
   ],
   "source": [
    "# Selecting Rows\n",
    "s = students.select()\n",
    "result = conn.execute(s)\n",
    "for i in result:\n",
    "    print(i)"
   ]
  },
  {
   "cell_type": "code",
   "execution_count": 40,
   "metadata": {},
   "outputs": [
    {
     "name": "stdout",
     "output_type": "stream",
     "text": [
      "2020-03-04 10:40:19,817 INFO sqlalchemy.engine.base.Engine SELECT students2.id, students2.name, students2.lastname \n",
      "FROM students2 \n",
      "WHERE students2.id > ?\n",
      "2020-03-04 10:40:19,820 INFO sqlalchemy.engine.base.Engine (2,)\n",
      "(3, 'Komal', 'Bhandari')\n",
      "(4, 'Abdul', 'Sattar')\n",
      "(5, 'Priya', 'Rajhans')\n"
     ]
    }
   ],
   "source": [
    "# how to use clause (here 'where')\n",
    "s = students.select().where(students.c.id>2) # Here 'c' is alias (mandatory) for column\n",
    "result = conn.execute(s)\n",
    "for i in result:\n",
    "    print(i)"
   ]
  },
  {
   "cell_type": "code",
   "execution_count": 43,
   "metadata": {},
   "outputs": [
    {
     "name": "stdout",
     "output_type": "stream",
     "text": [
      "2020-03-04 10:48:57,724 INFO sqlalchemy.engine.base.Engine UPDATE students2 SET lastname=? WHERE students2.lastname = ?\n",
      "2020-03-04 10:48:57,727 INFO sqlalchemy.engine.base.Engine ('Khan', 'Khanna')\n",
      "2020-03-04 10:48:57,730 INFO sqlalchemy.engine.base.Engine COMMIT\n",
      "2020-03-04 10:48:57,917 INFO sqlalchemy.engine.base.Engine SELECT students2.id, students2.name, students2.lastname \n",
      "FROM students2\n",
      "2020-03-04 10:48:57,919 INFO sqlalchemy.engine.base.Engine ()\n"
     ]
    },
    {
     "data": {
      "text/plain": [
       "[(1, 'Mohan', 'Singh'),\n",
       " (2, 'Rajiv', 'Khan'),\n",
       " (3, 'Komal', 'Bhandari'),\n",
       " (4, 'Abdul', 'Sattar'),\n",
       " (5, 'Priya', 'Rajhans')]"
      ]
     },
     "execution_count": 43,
     "metadata": {},
     "output_type": "execute_result"
    }
   ],
   "source": [
    "# Update table\n",
    "u = students.update().where(students.c.lastname=='Khanna').values(lastname='Khan')\n",
    "conn.execute(u)\n",
    "s = students.select()\n",
    "conn.execute(s).fetchall()"
   ]
  },
  {
   "cell_type": "code",
   "execution_count": 44,
   "metadata": {},
   "outputs": [
    {
     "name": "stdout",
     "output_type": "stream",
     "text": [
      "2020-03-04 10:52:02,066 INFO sqlalchemy.engine.base.Engine DELETE FROM students2 WHERE students2.id = ?\n",
      "2020-03-04 10:52:02,076 INFO sqlalchemy.engine.base.Engine (5,)\n",
      "2020-03-04 10:52:02,078 INFO sqlalchemy.engine.base.Engine COMMIT\n",
      "2020-03-04 10:52:02,276 INFO sqlalchemy.engine.base.Engine SELECT students2.id, students2.name, students2.lastname \n",
      "FROM students2\n",
      "2020-03-04 10:52:02,278 INFO sqlalchemy.engine.base.Engine ()\n"
     ]
    },
    {
     "data": {
      "text/plain": [
       "[(1, 'Mohan', 'Singh'),\n",
       " (2, 'Rajiv', 'Khan'),\n",
       " (3, 'Komal', 'Bhandari'),\n",
       " (4, 'Abdul', 'Sattar')]"
      ]
     },
     "execution_count": 44,
     "metadata": {},
     "output_type": "execute_result"
    }
   ],
   "source": [
    "# Delete from table\n",
    "d = students.delete().where(students.c.id == 5)\n",
    "conn.execute(d)\n",
    "s = students.select()\n",
    "conn.execute(s).fetchall()"
   ]
  },
  {
   "cell_type": "markdown",
   "metadata": {},
   "source": [
    "So, this is basics of sqlalchemy, how we can handle database in a pythonic way."
   ]
  },
  {
   "cell_type": "markdown",
   "metadata": {},
   "source": [
    "# Thank you"
   ]
  }
 ],
 "metadata": {
  "kernelspec": {
   "display_name": "Python 3",
   "language": "python",
   "name": "python3"
  },
  "language_info": {
   "codemirror_mode": {
    "name": "ipython",
    "version": 3
   },
   "file_extension": ".py",
   "mimetype": "text/x-python",
   "name": "python",
   "nbconvert_exporter": "python",
   "pygments_lexer": "ipython3",
   "version": "3.7.3"
  }
 },
 "nbformat": 4,
 "nbformat_minor": 2
}
